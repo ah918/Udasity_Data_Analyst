{
 "cells": [
  {
   "cell_type": "markdown",
   "metadata": {},
   "source": [
    "\n",
    "\n",
    "# Project: Investigate a Dataset (Investigate TMDb Movie Dataset)\n",
    "\n",
    "## Table of Contents\n",
    "<ul>\n",
    "<li><a href=\"#intro\">Introduction</a></li>\n",
    "<li><a href=\"#wrangling\">Data Wrangling</a></li>\n",
    "<li><a href=\"#eda\">Exploratory Data Analysis</a></li>\n",
    "<li><a href=\"#conclusions\">Conclusions</a></li>\n",
    "</ul>"
   ]
  },
  {
   "cell_type": "markdown",
   "metadata": {},
   "source": [
    "<a id='intro'></a>\n",
    "## Introduction\n",
    "\n",
    "\n",
    "> The data set which will be analyzed in this project is the TMDb movie data (cleaned from original data on Kaggle), This data set contains information about 10,000 movies collected from The Movie Database (TMDb), it has many beneficial attribute which are:\n",
    "\n",
    "The questions which we will try to answers are\n",
    "- Which genres are most popular from year to year?\n",
    "- Which year has the highest number of movies release?\n",
    "- Did the revenue increase whenever the budget increase?"
   ]
  },
  {
   "cell_type": "code",
   "execution_count": 39,
   "metadata": {},
   "outputs": [],
   "source": [
    "#  this cell to set up import statements for all of the packages that we plan to use.\n",
    "\n",
    "import csv\n",
    "import pandas as pd     # To handle data\n",
    "import numpy as np      # For number computing\n",
    "import matplotlib.pyplot as plt; plt.rcdefaults()\n",
    "import matplotlib.pyplot as plt\n",
    "from pandas.plotting import parallel_coordinates\n",
    "\n",
    "from datetime import datetime\n",
    "\n",
    "%matplotlib inline\n",
    "\n",
    "plt.rcParams[\"figure.figsize\"] = [15, 10]"
   ]
  },
  {
   "cell_type": "markdown",
   "metadata": {},
   "source": [
    "<a id='wrangling'></a>\n",
    "## Data Wrangling\n",
    "\n",
    ">After observing the data set we will remove the column that unrealavt to us to make the process more easier.\n",
    "\n",
    "### General Properties"
   ]
  },
  {
   "cell_type": "code",
   "execution_count": 21,
   "metadata": {},
   "outputs": [],
   "source": [
    "#loading the csv files which contains the movies dataset and assign them to the variable df_movies\n",
    "df_movies = pd.read_csv(r'C:\\Users\\akh91\\Desktop\\tmdb-movies.csv')"
   ]
  },
  {
   "cell_type": "code",
   "execution_count": 22,
   "metadata": {},
   "outputs": [
    {
     "name": "stdout",
     "output_type": "stream",
     "text": [
      "<class 'pandas.core.frame.DataFrame'>\n",
      "RangeIndex: 10866 entries, 0 to 10865\n",
      "Data columns (total 21 columns):\n",
      "id                      10866 non-null int64\n",
      "imdb_id                 10856 non-null object\n",
      "popularity              10866 non-null float64\n",
      "budget                  10866 non-null int64\n",
      "revenue                 10866 non-null int64\n",
      "original_title          10866 non-null object\n",
      "cast                    10790 non-null object\n",
      "homepage                2936 non-null object\n",
      "director                10822 non-null object\n",
      "tagline                 8042 non-null object\n",
      "keywords                9373 non-null object\n",
      "overview                10862 non-null object\n",
      "runtime                 10866 non-null int64\n",
      "genres                  10843 non-null object\n",
      "production_companies    9836 non-null object\n",
      "release_date            10866 non-null object\n",
      "vote_count              10866 non-null int64\n",
      "vote_average            10866 non-null float64\n",
      "release_year            10866 non-null int64\n",
      "budget_adj              10866 non-null float64\n",
      "revenue_adj             10866 non-null float64\n",
      "dtypes: float64(4), int64(6), object(11)\n",
      "memory usage: 1.7+ MB\n"
     ]
    }
   ],
   "source": [
    "#display the first ten rows\n",
    "df_movies.head(10)\n",
    "\n",
    "#information about the dataset\n",
    "df_movies.info()"
   ]
  },
  {
   "cell_type": "markdown",
   "metadata": {},
   "source": [
    "\n",
    "### Data Cleaning (Removing the unused information from the dataset)"
   ]
  },
  {
   "cell_type": "markdown",
   "metadata": {
    "jupyter": {
     "outputs_hidden": true
    }
   },
   "source": [
    "\n",
    "<b>We notice from the information shown above</b>\n",
    "\n",
    "\n",
    ">1- Drop unused columns.\n",
    "<br>2- Removing the duplicacy in the rows(if any).\n",
    "<br>3- Replace the zeros in revenue and budget column with the average value of each.\n",
    "<br>4. Changing release date column into date format."
   ]
  },
  {
   "cell_type": "markdown",
   "metadata": {},
   "source": [
    "1- Drop unused columns.\n",
    "   unused columns are imdb_id, original_title, cast, homepage, director, tagline, keywords, overview, vote_count, runtime, vote_average, budget_adj, and revenue_adj."
   ]
  },
  {
   "cell_type": "code",
   "execution_count": 23,
   "metadata": {},
   "outputs": [],
   "source": [
    "df_movies = df_movies.drop([ 'imdb_id', 'original_title','cast','homepage','tagline','keywords','overview','vote_count','runtime','vote_average','budget_adj','revenue_adj'], axis=1)"
   ]
  },
  {
   "cell_type": "markdown",
   "metadata": {},
   "source": [
    "2- Removing the duplicacy in the rows(if any)."
   ]
  },
  {
   "cell_type": "code",
   "execution_count": 24,
   "metadata": {},
   "outputs": [
    {
     "data": {
      "text/html": [
       "<div>\n",
       "<style scoped>\n",
       "    .dataframe tbody tr th:only-of-type {\n",
       "        vertical-align: middle;\n",
       "    }\n",
       "\n",
       "    .dataframe tbody tr th {\n",
       "        vertical-align: top;\n",
       "    }\n",
       "\n",
       "    .dataframe thead th {\n",
       "        text-align: right;\n",
       "    }\n",
       "</style>\n",
       "<table border=\"1\" class=\"dataframe\">\n",
       "  <thead>\n",
       "    <tr style=\"text-align: right;\">\n",
       "      <th></th>\n",
       "      <th>id</th>\n",
       "      <th>popularity</th>\n",
       "      <th>budget</th>\n",
       "      <th>revenue</th>\n",
       "      <th>director</th>\n",
       "      <th>genres</th>\n",
       "      <th>production_companies</th>\n",
       "      <th>release_date</th>\n",
       "      <th>release_year</th>\n",
       "    </tr>\n",
       "  </thead>\n",
       "  <tbody>\n",
       "    <tr>\n",
       "      <td>0</td>\n",
       "      <td>135397</td>\n",
       "      <td>32.985763</td>\n",
       "      <td>150000000</td>\n",
       "      <td>1513528810</td>\n",
       "      <td>Colin Trevorrow</td>\n",
       "      <td>Action|Adventure|Science Fiction|Thriller</td>\n",
       "      <td>Universal Studios|Amblin Entertainment|Legenda...</td>\n",
       "      <td>6/9/15</td>\n",
       "      <td>2015</td>\n",
       "    </tr>\n",
       "    <tr>\n",
       "      <td>1</td>\n",
       "      <td>76341</td>\n",
       "      <td>28.419936</td>\n",
       "      <td>150000000</td>\n",
       "      <td>378436354</td>\n",
       "      <td>George Miller</td>\n",
       "      <td>Action|Adventure|Science Fiction|Thriller</td>\n",
       "      <td>Village Roadshow Pictures|Kennedy Miller Produ...</td>\n",
       "      <td>5/13/15</td>\n",
       "      <td>2015</td>\n",
       "    </tr>\n",
       "    <tr>\n",
       "      <td>2</td>\n",
       "      <td>262500</td>\n",
       "      <td>13.112507</td>\n",
       "      <td>110000000</td>\n",
       "      <td>295238201</td>\n",
       "      <td>Robert Schwentke</td>\n",
       "      <td>Adventure|Science Fiction|Thriller</td>\n",
       "      <td>Summit Entertainment|Mandeville Films|Red Wago...</td>\n",
       "      <td>3/18/15</td>\n",
       "      <td>2015</td>\n",
       "    </tr>\n",
       "    <tr>\n",
       "      <td>3</td>\n",
       "      <td>140607</td>\n",
       "      <td>11.173104</td>\n",
       "      <td>200000000</td>\n",
       "      <td>2068178225</td>\n",
       "      <td>J.J. Abrams</td>\n",
       "      <td>Action|Adventure|Science Fiction|Fantasy</td>\n",
       "      <td>Lucasfilm|Truenorth Productions|Bad Robot</td>\n",
       "      <td>12/15/15</td>\n",
       "      <td>2015</td>\n",
       "    </tr>\n",
       "    <tr>\n",
       "      <td>4</td>\n",
       "      <td>168259</td>\n",
       "      <td>9.335014</td>\n",
       "      <td>190000000</td>\n",
       "      <td>1506249360</td>\n",
       "      <td>James Wan</td>\n",
       "      <td>Action|Crime|Thriller</td>\n",
       "      <td>Universal Pictures|Original Film|Media Rights ...</td>\n",
       "      <td>4/1/15</td>\n",
       "      <td>2015</td>\n",
       "    </tr>\n",
       "    <tr>\n",
       "      <td>...</td>\n",
       "      <td>...</td>\n",
       "      <td>...</td>\n",
       "      <td>...</td>\n",
       "      <td>...</td>\n",
       "      <td>...</td>\n",
       "      <td>...</td>\n",
       "      <td>...</td>\n",
       "      <td>...</td>\n",
       "      <td>...</td>\n",
       "    </tr>\n",
       "    <tr>\n",
       "      <td>10861</td>\n",
       "      <td>21</td>\n",
       "      <td>0.080598</td>\n",
       "      <td>0</td>\n",
       "      <td>0</td>\n",
       "      <td>Bruce Brown</td>\n",
       "      <td>Documentary</td>\n",
       "      <td>Bruce Brown Films</td>\n",
       "      <td>6/15/66</td>\n",
       "      <td>1966</td>\n",
       "    </tr>\n",
       "    <tr>\n",
       "      <td>10862</td>\n",
       "      <td>20379</td>\n",
       "      <td>0.065543</td>\n",
       "      <td>0</td>\n",
       "      <td>0</td>\n",
       "      <td>John Frankenheimer</td>\n",
       "      <td>Action|Adventure|Drama</td>\n",
       "      <td>Cherokee Productions|Joel Productions|Douglas ...</td>\n",
       "      <td>12/21/66</td>\n",
       "      <td>1966</td>\n",
       "    </tr>\n",
       "    <tr>\n",
       "      <td>10863</td>\n",
       "      <td>39768</td>\n",
       "      <td>0.065141</td>\n",
       "      <td>0</td>\n",
       "      <td>0</td>\n",
       "      <td>Eldar Ryazanov</td>\n",
       "      <td>Mystery|Comedy</td>\n",
       "      <td>Mosfilm</td>\n",
       "      <td>1/1/66</td>\n",
       "      <td>1966</td>\n",
       "    </tr>\n",
       "    <tr>\n",
       "      <td>10864</td>\n",
       "      <td>21449</td>\n",
       "      <td>0.064317</td>\n",
       "      <td>0</td>\n",
       "      <td>0</td>\n",
       "      <td>Woody Allen</td>\n",
       "      <td>Action|Comedy</td>\n",
       "      <td>Benedict Pictures Corp.</td>\n",
       "      <td>11/2/66</td>\n",
       "      <td>1966</td>\n",
       "    </tr>\n",
       "    <tr>\n",
       "      <td>10865</td>\n",
       "      <td>22293</td>\n",
       "      <td>0.035919</td>\n",
       "      <td>19000</td>\n",
       "      <td>0</td>\n",
       "      <td>Harold P. Warren</td>\n",
       "      <td>Horror</td>\n",
       "      <td>Norm-Iris</td>\n",
       "      <td>11/15/66</td>\n",
       "      <td>1966</td>\n",
       "    </tr>\n",
       "  </tbody>\n",
       "</table>\n",
       "<p>10865 rows × 9 columns</p>\n",
       "</div>"
      ],
      "text/plain": [
       "           id  popularity     budget     revenue            director  \\\n",
       "0      135397   32.985763  150000000  1513528810     Colin Trevorrow   \n",
       "1       76341   28.419936  150000000   378436354       George Miller   \n",
       "2      262500   13.112507  110000000   295238201    Robert Schwentke   \n",
       "3      140607   11.173104  200000000  2068178225         J.J. Abrams   \n",
       "4      168259    9.335014  190000000  1506249360           James Wan   \n",
       "...       ...         ...        ...         ...                 ...   \n",
       "10861      21    0.080598          0           0         Bruce Brown   \n",
       "10862   20379    0.065543          0           0  John Frankenheimer   \n",
       "10863   39768    0.065141          0           0      Eldar Ryazanov   \n",
       "10864   21449    0.064317          0           0         Woody Allen   \n",
       "10865   22293    0.035919      19000           0    Harold P. Warren   \n",
       "\n",
       "                                          genres  \\\n",
       "0      Action|Adventure|Science Fiction|Thriller   \n",
       "1      Action|Adventure|Science Fiction|Thriller   \n",
       "2             Adventure|Science Fiction|Thriller   \n",
       "3       Action|Adventure|Science Fiction|Fantasy   \n",
       "4                          Action|Crime|Thriller   \n",
       "...                                          ...   \n",
       "10861                                Documentary   \n",
       "10862                     Action|Adventure|Drama   \n",
       "10863                             Mystery|Comedy   \n",
       "10864                              Action|Comedy   \n",
       "10865                                     Horror   \n",
       "\n",
       "                                    production_companies release_date  \\\n",
       "0      Universal Studios|Amblin Entertainment|Legenda...       6/9/15   \n",
       "1      Village Roadshow Pictures|Kennedy Miller Produ...      5/13/15   \n",
       "2      Summit Entertainment|Mandeville Films|Red Wago...      3/18/15   \n",
       "3              Lucasfilm|Truenorth Productions|Bad Robot     12/15/15   \n",
       "4      Universal Pictures|Original Film|Media Rights ...       4/1/15   \n",
       "...                                                  ...          ...   \n",
       "10861                                  Bruce Brown Films      6/15/66   \n",
       "10862  Cherokee Productions|Joel Productions|Douglas ...     12/21/66   \n",
       "10863                                            Mosfilm       1/1/66   \n",
       "10864                            Benedict Pictures Corp.      11/2/66   \n",
       "10865                                          Norm-Iris     11/15/66   \n",
       "\n",
       "       release_year  \n",
       "0              2015  \n",
       "1              2015  \n",
       "2              2015  \n",
       "3              2015  \n",
       "4              2015  \n",
       "...             ...  \n",
       "10861          1966  \n",
       "10862          1966  \n",
       "10863          1966  \n",
       "10864          1966  \n",
       "10865          1966  \n",
       "\n",
       "[10865 rows x 9 columns]"
      ]
     },
     "execution_count": 24,
     "metadata": {},
     "output_type": "execute_result"
    }
   ],
   "source": [
    "df_movies.drop_duplicates() "
   ]
  },
  {
   "cell_type": "markdown",
   "metadata": {},
   "source": [
    "3- Replace the zeros in revenue and budget column with the average value of each."
   ]
  },
  {
   "cell_type": "code",
   "execution_count": 25,
   "metadata": {},
   "outputs": [],
   "source": [
    "df_movies=df_movies.mask(df_movies==0).fillna(df_movies.mean())"
   ]
  },
  {
   "cell_type": "markdown",
   "metadata": {},
   "source": [
    "4. Changing release date column into date format."
   ]
  },
  {
   "cell_type": "code",
   "execution_count": 26,
   "metadata": {},
   "outputs": [],
   "source": [
    "df_movies.release_date = pd.to_datetime(df_movies['release_date'])"
   ]
  },
  {
   "cell_type": "markdown",
   "metadata": {},
   "source": [
    "<a id='eda'></a>\n",
    "## Exploratory Data Analysis\n",
    "\n",
    "> **Tip**: Now that you've trimmed and cleaned your data, you're ready to move on to exploration. Compute statistics and create visualizations with the goal of addressing the research questions that you posed in the Introduction section. It is recommended that you be systematic with your approach. Look at one variable at a time, and then follow it up by looking at relationships between variables.\n",
    "\n",
    "### Research Question 1 (which genres are most popular from year to year?)"
   ]
  },
  {
   "cell_type": "code",
   "execution_count": 27,
   "metadata": {},
   "outputs": [],
   "source": [
    "#function returns the most popular genres givin a year\n",
    "\n",
    "def popular_genre(year):\n",
    "    \n",
    "    #group the data by the specific year\n",
    "    df = df_movies[df_movies['release_year'] == year]\n",
    "        \n",
    "    #separate the genres by '|'\n",
    "    df = df['genres'].str.cat(sep = '|')\n",
    "    \n",
    "    \n",
    "        \n",
    "    #giving pandas series and storing the values separately\n",
    "    df = pd.Series(df.split('|'))\n",
    "    \n",
    "    #arranging in descending order\n",
    "    count = df.value_counts(ascending = False)\n",
    " \n",
    "    #create two lists to store the genres and their frequent\n",
    "    value = []\n",
    "    c = []\n",
    "    for val, cnt in count.iteritems():\n",
    "         value.append(val)\n",
    "         c.append(cnt)\n",
    "        \n",
    "    #Dictionary contain the release year with the highest frequent genre and their number\n",
    "    data = { 'year': year  , 'genres' : value[0] , 'count' : c[0]}\n",
    "        \n",
    "          \n",
    "    \n",
    "    return  data"
   ]
  },
  {
   "cell_type": "code",
   "execution_count": 45,
   "metadata": {},
   "outputs": [
    {
     "name": "stdout",
     "output_type": "stream",
     "text": [
      "in the  1960  year the most popular genre was \" Drama \"\n",
      "in the  1961  year the most popular genre was \" Drama \"\n",
      "in the  1962  year the most popular genre was \" Drama \"\n",
      "in the  1963  year the most popular genre was \" Comedy \"\n",
      "in the  1964  year the most popular genre was \" Drama \"\n",
      "in the  1965  year the most popular genre was \" Drama \"\n",
      "in the  1966  year the most popular genre was \" Comedy \"\n",
      "in the  1967  year the most popular genre was \" Comedy \"\n",
      "in the  1968  year the most popular genre was \" Drama \"\n",
      "in the  1969  year the most popular genre was \" Drama \"\n",
      "in the  1970  year the most popular genre was \" Drama \"\n",
      "in the  1971  year the most popular genre was \" Drama \"\n",
      "in the  1972  year the most popular genre was \" Drama \"\n",
      "in the  1973  year the most popular genre was \" Drama \"\n",
      "in the  1974  year the most popular genre was \" Drama \"\n",
      "in the  1975  year the most popular genre was \" Drama \"\n",
      "in the  1976  year the most popular genre was \" Drama \"\n",
      "in the  1977  year the most popular genre was \" Drama \"\n",
      "in the  1978  year the most popular genre was \" Drama \"\n",
      "in the  1979  year the most popular genre was \" Drama \"\n",
      "in the  1980  year the most popular genre was \" Drama \"\n",
      "in the  1981  year the most popular genre was \" Drama \"\n",
      "in the  1982  year the most popular genre was \" Drama \"\n",
      "in the  1983  year the most popular genre was \" Drama \"\n",
      "in the  1984  year the most popular genre was \" Drama \"\n",
      "in the  1985  year the most popular genre was \" Comedy \"\n",
      "in the  1986  year the most popular genre was \" Drama \"\n",
      "in the  1987  year the most popular genre was \" Comedy \"\n",
      "in the  1988  year the most popular genre was \" Comedy \"\n",
      "in the  1989  year the most popular genre was \" Comedy \"\n",
      "in the  1990  year the most popular genre was \" Drama \"\n",
      "in the  1991  year the most popular genre was \" Drama \"\n",
      "in the  1992  year the most popular genre was \" Drama \"\n",
      "in the  1993  year the most popular genre was \" Drama \"\n",
      "in the  1994  year the most popular genre was \" Comedy \"\n",
      "in the  1995  year the most popular genre was \" Drama \"\n",
      "in the  1996  year the most popular genre was \" Drama \"\n",
      "in the  1997  year the most popular genre was \" Drama \"\n",
      "in the  1998  year the most popular genre was \" Drama \"\n",
      "in the  1999  year the most popular genre was \" Drama \"\n",
      "in the  2000  year the most popular genre was \" Drama \"\n",
      "in the  2001  year the most popular genre was \" Comedy \"\n",
      "in the  2002  year the most popular genre was \" Drama \"\n",
      "in the  2003  year the most popular genre was \" Comedy \"\n",
      "in the  2004  year the most popular genre was \" Drama \"\n",
      "in the  2005  year the most popular genre was \" Drama \"\n",
      "in the  2006  year the most popular genre was \" Drama \"\n",
      "in the  2007  year the most popular genre was \" Drama \"\n",
      "in the  2008  year the most popular genre was \" Drama \"\n",
      "in the  2009  year the most popular genre was \" Drama \"\n",
      "in the  2010  year the most popular genre was \" Drama \"\n",
      "in the  2011  year the most popular genre was \" Drama \"\n",
      "in the  2012  year the most popular genre was \" Drama \"\n",
      "in the  2013  year the most popular genre was \" Drama \"\n",
      "in the  2014  year the most popular genre was \" Drama \"\n",
      "in the  2015  year the most popular genre was \" Drama \"\n"
     ]
    }
   ],
   "source": [
    "#get the uniqe years in the dataset\n",
    "years = df_movies.release_year.unique().tolist()\n",
    "\n",
    "#sort the years\n",
    "years = sorted(years)\n",
    "\n",
    "#create three lists to store the release years, genres, and their counts\n",
    "year =[]\n",
    "genres=[]\n",
    "count=[]\n",
    "for t in years:\n",
    "    info = popular_genre(t)\n",
    "    year.append(info['year'])\n",
    "    genres.append(info['genres'])\n",
    "    count.append(info['count'])\n",
    "    print (\"in the \",info['year'],\" year the most popular genre was \\\"\",info['genres'],\"\\\"\")\n",
    "\n"
   ]
  },
  {
   "cell_type": "markdown",
   "metadata": {},
   "source": [
    "According to the results shown above, we notice that since 1960 the most movies release belong to the drama genre,\n",
    "in some years the movies released belong to the comedy genre "
   ]
  },
  {
   "cell_type": "markdown",
   "metadata": {},
   "source": [
    "### Research Question 2  (Which year has the highest number of movies release?)"
   ]
  },
  {
   "cell_type": "code",
   "execution_count": 46,
   "metadata": {},
   "outputs": [
    {
     "data": {
      "text/plain": [
       "Text(0, 0.5, 'Number Of Movies')"
      ]
     },
     "execution_count": 46,
     "metadata": {},
     "output_type": "execute_result"
    },
    {
     "data": {
      "image/png": "[encoded data removed]",
      "text/plain": [
       "<Figure size 1080x720 with 1 Axes>"
      ]
     },
     "metadata": {
      "needs_background": "light"
     },
     "output_type": "display_data"
    }
   ],
   "source": [
    "#group the data by the year and count the number of movies in each year\n",
    "data=df_movies.groupby('release_year').count()['id']\n",
    "\n",
    "\n",
    "\n",
    "df_movies.groupby('release_year').count()['id'].plot(xticks = np.arange(1960,2016,3))\n",
    "\n",
    "#set the plot title, x label and y label\n",
    "plt.title(\"Year Vs Number Of Movies\",fontsize = 14)\n",
    "plt.xlabel('Release year',fontsize = 13)\n",
    "plt.ylabel('Number Of Movies',fontsize = 13)\n"
   ]
  },
  {
   "cell_type": "markdown",
   "metadata": {},
   "source": [
    "According to the plot, we can find that the movies release becoming more over the years"
   ]
  },
  {
   "cell_type": "markdown",
   "metadata": {},
   "source": [
    "### Research Question 3  (did the revenue increase whenever the budget increase?)"
   ]
  },
  {
   "cell_type": "code",
   "execution_count": 48,
   "metadata": {},
   "outputs": [
    {
     "data": {
      "image/png": "[encoded data removed]",
      "text/plain": [
       "<Figure size 1080x720 with 1 Axes>"
      ]
     },
     "metadata": {
      "needs_background": "light"
     },
     "output_type": "display_data"
    }
   ],
   "source": [
    "#assign the revenues to the x-axis \n",
    "#assign the budget to the y-axis\n",
    "y = df_movies['revenue']\n",
    "x = df_movies['budget']\n",
    "\n",
    "\n",
    "# Plot\n",
    "plt.scatter(x, y, alpha=0.5)\n",
    "\n",
    "#set the plot title, x label and y label\n",
    "plt.title('budget vs increase')\n",
    "plt.xlabel('budget')\n",
    "plt.ylabel('revenue')\n",
    "plt.show()"
   ]
  },
  {
   "cell_type": "markdown",
   "metadata": {},
   "source": [
    "In the scatter plot we notice that the relation between the budget and revenue is a direct correlation, which means the revenue almost will become greater when the budget spending increase"
   ]
  },
  {
   "cell_type": "markdown",
   "metadata": {},
   "source": [
    "###### <a id='conclusions'></a>\n",
    "## Conclusions"
   ]
  },
  {
   "cell_type": "markdown",
   "metadata": {},
   "source": [
    "<ul>\n",
    "<li> Drama is the most popular genre, following by comedy.  </li>\n",
    "<li> The number of movie releases become more over the years.  </li>\n",
    "<li> There is a correlation between the budget and revenue. </li>\n",
    "</ul>"
   ]
  },
  {
   "cell_type": "markdown",
   "metadata": {},
   "source": [
    "## limitation"
   ]
  },
  {
   "cell_type": "markdown",
   "metadata": {},
   "source": [
    "<ul>\n",
    "<li> In the data processing, dealing with genres takes more time since we need to separate them by '|' into lists.  </li>\n",
    "<li> some rows contain 0 budget and revenue and we replaced them by the mean, this will affect the accuracy of the result since we assume their values as the mean.  </li>   \n",
    "</ul>"
   ]
  },
  {
   "cell_type": "code",
   "execution_count": null,
   "metadata": {},
   "outputs": [],
   "source": []
  }
 ],
 "metadata": {
  "kernelspec": {
   "display_name": "Python 3",
   "language": "python",
   "name": "python3"
  },
  "language_info": {
   "codemirror_mode": {
    "name": "ipython",
    "version": 3
   },
   "file_extension": ".py",
   "mimetype": "text/x-python",
   "name": "python",
   "nbconvert_exporter": "python",
   "pygments_lexer": "ipython3",
   "version": "3.7.4"
  }
 },
 "nbformat": 4,
 "nbformat_minor": 4
}
